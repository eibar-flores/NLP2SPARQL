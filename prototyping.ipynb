{
 "cells": [
  {
   "cell_type": "code",
   "execution_count": 1,
   "metadata": {},
   "outputs": [],
   "source": [
    "import os\n",
    "import urllib.request\n",
    "from rdflib import Graph\n",
    "from rdflib.namespace import SKOS"
   ]
  },
  {
   "cell_type": "code",
   "execution_count": 2,
   "metadata": {},
   "outputs": [],
   "source": [
    "onto_url = \"https://raw.githubusercontent.com/emmo-repo/domain-electrochemistry/master/electrochemistry.ttl\"\n",
    "data_path = \"./data/\"\n",
    "example_filename = \"example.ttl\"\n",
    "if example_filename not in os.listdir(data_path):\n",
    "    urllib.request.urlretrieve(onto_url, data_path+example_filename)\n"
   ]
  },
  {
   "cell_type": "code",
   "execution_count": 3,
   "metadata": {},
   "outputs": [
    {
     "data": {
      "text/plain": [
       "2254"
      ]
     },
     "execution_count": 3,
     "metadata": {},
     "output_type": "execute_result"
    }
   ],
   "source": [
    "# Create a Graph\n",
    "g = Graph()\n",
    "\n",
    "# Parse in an RDF file hosted on the Internet\n",
    "g.parse(data_path+example_filename,format=\"ttl\")\n",
    "len(g)"
   ]
  },
  {
   "cell_type": "code",
   "execution_count": 4,
   "metadata": {},
   "outputs": [
    {
     "name": "stdout",
     "output_type": "stream",
     "text": [
      "http://emmo.info/electrochemistry#electrochemistry_3bd08946_4e81_455d_9fca_dc7a5ead9315  :  hasElectrolyte\n",
      "http://emmo.info/electrochemistry#electrochemistry_578c41e9_ee01_4840_9c8c_04ab6e4e6241  :  hasElectrode\n",
      "http://emmo.info/electrochemistry#electrochemistry_5d299271_3f68_494f_ab96_3db9acdd3138  :  hasNegativeElectrode\n",
      "http://emmo.info/electrochemistry#electrochemistry_5eb197ea_0c3e_4ea2_8392_81152ee91515  :  hasReferenceElectrode\n",
      "http://emmo.info/electrochemistry#electrochemistry_6bf73b4c_bc73_4db1_bf51_12628ce9ea3b  :  hasElectrodeConstituent\n",
      "http://emmo.info/electrochemistry#electrochemistry_860aa941_5ff9_4452_8a16_7856fad07bee  :  hasActiveMaterial\n",
      "http://emmo.info/electrochemistry#electrochemistry_8e9cf965_9f92_46e8_b678_b50410ce3616  :  hasPositiveElectrode\n",
      "http://emmo.info/electrochemistry#electrochemistry_008201ec_1e44_47a9_bc50_644ed07489ea  :  Electrogravimetry\n",
      "http://emmo.info/electrochemistry#electrochemistry_14d0358f_f65d_44f9_8b85_40b38f17c4ed  :  Electrogravimetry\n",
      "http://emmo.info/electrochemistry#electrochemistry_01260656_ac32_472e_9513_a607366538ec  :  ElectrodePassivation\n",
      "http://emmo.info/electrochemistry#electrochemistry_029f0b45-70a7-481f-8154-bf982a77e08c  :  SimpleElectrode\n",
      "http://emmo.info/electrochemistry#electrochemistry_042d2282_bd2d_4874_b896_2d9dd06b54dd  :  SquareWaveVoltammetry\n",
      "http://emmo.info/electrochemistry#electrochemistry_048130e3_7448_4c06_b3b3_d039a848aae3  :  OxygenEvolutionReaction\n",
      "http://emmo.info/electrochemistry#electrochemistry_0484fe63_7c3f_4559_8747_c8995def0a66  :  HydrogenOxidationReaction\n",
      "http://emmo.info/electrochemistry#electrochemistry_0508a114_544a_4f54_a7de_9b947fb4b618  :  SolidElectrolyte\n",
      "http://emmo.info/electrochemistry#electrochemistry_06d8e1ee_924a_4915_998d_33a69f41dadc  :  Discharging\n",
      "http://emmo.info/electrochemistry#electrochemistry_07ad0aff_ab59_442d_9c0a_7f8c5cba8982  :  Impedimetry\n",
      "http://emmo.info/electrochemistry#electrochemistry_0838f0b6_ca9a_4f76_9770_ca964617bf1b  :  ICI\n",
      "http://emmo.info/electrochemistry#electrochemistry_0a0de817_addc_46a5_8ba2_255d48cdf366  :  ElectrochemicalDegradationPhenomenon\n",
      "http://emmo.info/electrochemistry#electrochemistry_0acd0fc2_1048_4604_8e90_bf4e84bd87df  :  ElectrochemicalDevice\n",
      "http://emmo.info/electrochemistry#electrochemistry_0b1f77b8_2349_4433_b440_43dc84a2210f  :  AbrasiveStrippingVoltammetry\n",
      "http://emmo.info/electrochemistry#electrochemistry_0cc8f231_0ce5_467e_9c76_29b2c80349ad  :  ConstantCurrentConstantVoltageCharging\n",
      "http://emmo.info/electrochemistry#electrochemistry_0d9ba00d_04bc_4bdc_85af_3380694f6f68  :  ReversibleHydrogenElectrode\n",
      "http://emmo.info/electrochemistry#electrochemistry_0ec0ab2d_173d_4207_a53c_e550471af872  :  ChronoMethodsHighSpeed\n",
      "http://emmo.info/electrochemistry#electrochemistry_0f007072-a8dd-4798-b865-1bf9363be627  :  Electrode\n",
      "http://emmo.info/electrochemistry#electrochemistry_10359c79_cdf2_401a_83ee_d22e7fbb2ad1  :  ElectroanalyticalTechnique\n",
      "http://emmo.info/electrochemistry#electrochemistry_113e0469_8ae0_407f_892d_4b988f8d8a08  :  Thermocell\n",
      "http://emmo.info/electrochemistry#electrochemistry_1152ae6b_8b57_4d99_912e_40c6a29342fb  :  FaradaysFirstLawOfElectrolysis\n",
      "http://emmo.info/electrochemistry#electrochemistry_11895d59_3f97_4bad_badf_1a90f2347c2a  :  GITT\n",
      "http://emmo.info/electrochemistry#electrochemistry_1259d305_349a_4c91_9490_c494c12d1e2c  :  HybridCell\n",
      "http://emmo.info/electrochemistry#electrochemistry_1340dd0b_98cd_4e6a_bd77_1907e0fd57b0  :  ElectroactiveMolecularEntity\n",
      "http://emmo.info/electrochemistry#electrochemistry_1355816f_a2b5_4800_8001_fc888f5d6b1b  :  Voltmeter\n",
      "http://emmo.info/electrochemistry#electrochemistry_1401844f_2ad7_4e01_a7c4_ba575ded1fee  :  AlkalineElectrochemicalCell\n",
      "http://emmo.info/electrochemistry#electrochemistry_15325775_6d4c_4192_82f1_e4feca9de426  :  IonExchangeMembrane\n",
      "http://emmo.info/electrochemistry#electrochemistry_158ae038_c64b_4cc0_aa56_650475490705  :  ElectricCurrentMeasurement\n",
      "http://emmo.info/electrochemistry#electrochemistry_15b852b5_19cc_49ab_849f_7df6175fb2be  :  Catholyte\n",
      "http://emmo.info/electrochemistry#electrochemistry_180878b5_8de8_4dd8_b881_1d0bebe326d4  :  DirectCoulometryAtControlledCurrent\n",
      "http://emmo.info/electrochemistry#electrochemistry_183a2337_c35f_4b74_8d9a_08c74d89bedc  :  VoltammetryAtARotatingDiskElectrode\n",
      "http://emmo.info/electrochemistry#electrochemistry_187326b9_1089_4122_8e7e_1a0bcba210a1  :  CathodicPolarization\n",
      "http://emmo.info/electrochemistry#electrochemistry_19abaccd_43be_4048_965c_e4fb63c5951b  :  ElectrochemicalPhenomenon\n",
      "http://emmo.info/electrochemistry#electrochemistry_1a7fb32a_743f_4aa6_ac5a_ff7a2ba29dce  :  ElectrochemicalPiezoelectricMicrogravimetry\n",
      "http://emmo.info/electrochemistry#electrochemistry_1e72986e_e19f_4c24_8663_cadd4318bd72  :  StoichiometricEquation\n",
      "http://emmo.info/electrochemistry#electrochemistry_1f7ba79e_3aaf_47f4_9281_53714416ea26  :  CarbonBlack\n",
      "http://emmo.info/electrochemistry#electrochemistry_1fc5642c_b7b2_43bf_ad20_f96001db8800  :  SupportingElectrolyte\n",
      "http://emmo.info/electrochemistry#electrochemistry_212af058_3bbb_419f_a9c6_90ba9ebb3706  :  CurrentCollector\n",
      "http://emmo.info/electrochemistry#electrochemistry_213ac5da_3931_43a4_a1ce_fd0a8b42ae58  :  ZincElectrochemicalReaction\n",
      "http://emmo.info/electrochemistry#electrochemistry_22725105_c941_4b14_a4a2_fcb627958607  :  Galvanostat\n",
      "http://emmo.info/electrochemistry#electrochemistry_270f239e_33cb_4c6d_a41c_875ec1262d62  :  Voltammetry\n",
      "http://emmo.info/electrochemistry#electrochemistry_7755ea90_ffeb_4d2e_8833_9e01b3daaf43  :  Voltammetry\n",
      "http://emmo.info/electrochemistry#electrochemistry_279ecc9f_bfbc_4108_ae40_3c1c0f735e60  :  FrequencyResponseAnalyser\n",
      "http://emmo.info/electrochemistry#electrochemistry_28213033_4c74_441c_81c4_a0cad05f9eb6  :  AnodicPolarization\n",
      "http://emmo.info/electrochemistry#electrochemistry_2a40b878_7d09_49db_91b2_d0ee30192284  :  StandardHydrogenElectrode\n",
      "http://emmo.info/electrochemistry#electrochemistry_2d32a81a_2148_41bd_84fb_467aa8de4a8f  :  PlatinumElectrode\n",
      "http://emmo.info/electrochemistry#electrochemistry_2e3e14f9_4cb8_45b2_908e_47eec893dec8  :  ElectrodeReaction\n",
      "http://emmo.info/electrochemistry#electrochemistry_2e6933aa_4522_4f16_a437_37110e6cbd0d  :  ElectrodePolarization\n",
      "http://emmo.info/electrochemistry#electrochemistry_2f96eb3e_4115_4236_9203_525fb27fe92d  :  CyclicVoltammetry\n",
      "http://emmo.info/electrochemistry#electrochemistry_31187293_5f00_4a36_b469_e16a83652b09  :  OxygenReductionReaction\n",
      "http://emmo.info/electrochemistry#electrochemistry_331e6cca_f260_4bf8_af55_35304fe1bbe0  :  Separator\n",
      "http://emmo.info/electrochemistry#electrochemistry_3462e175_be41_430b_9a1e_c7bef5775ea3  :  NearNeutralElectrochemicalCell\n",
      "http://emmo.info/electrochemistry#electrochemistry_35c650ab_3b23_4938_b312_1b0dede2e6d5  :  Cathode\n",
      "http://emmo.info/electrochemistry#electrochemistry_35cccde9_cb14_4b26_a324_aec97c4f9a15  :  AqueousElectrochemicalCell\n",
      "http://emmo.info/electrochemistry#electrochemistry_3663991d-9319-4f7a-922b-f0e428b58801  :  PorousElectrode\n",
      "http://emmo.info/electrochemistry#electrochemistry_38755e67_9d3b_4a82_bd8d_ef40a70379c1  :  AnolyteTank\n",
      "http://emmo.info/electrochemistry#electrochemistry_39536efc_22a6_4f39_b0c2_e8b845a36278  :  DirectCoulometryAtControlledPotential\n",
      "http://emmo.info/electrochemistry#electrochemistry_3a77b5e7_9646_4154_bf8f_5f798989e5f3  :  AnnularWorkingElectrode\n",
      "http://emmo.info/electrochemistry#electrochemistry_3b35e843_3132_41e3_b6df_541cd45ba880  :  StrippingVoltammetry\n",
      "http://emmo.info/electrochemistry#electrochemistry_3c3972f6_8e1d_454b_a198_48173ba2232b  :  NormalPulseVoltammetry\n",
      "http://emmo.info/electrochemistry#electrochemistry_3d805c2a_4801_440e_9e4d_0fa5585c76ae  :  ElectrochemicalRelation\n",
      "http://emmo.info/electrochemistry#electrochemistry_3e7fe02d_c888_4c49_8e05_ccd9785607a6  :  ConstantVoltageCharging\n",
      "http://emmo.info/electrochemistry#electrochemistry_3eec5411_c402_4d8e_b231_96a490516454  :  HydrogenEvolutionReaction\n",
      "http://emmo.info/electrochemistry#electrochemistry_3f0a19ba_d90c_4ed3_b2e6_b5e16d594af1  :  ElectrochemicalIntercalationMaterial\n",
      "http://emmo.info/electrochemistry#electrochemistry_3f9b2956_1465_4fe0_b0df_5e4784dac3b6  :  ElectricPotentialMeasuringSystem\n",
      "http://emmo.info/electrochemistry#electrochemistry_3fe63496_6d87_427a_b2aa_4555bc31ee1a  :  Amperometry\n",
      "http://emmo.info/electrochemistry#electrochemistry_402598d9_0eea_405d_b0d0_3b8b79deba6f  :  InterphaseGrowth\n",
      "http://emmo.info/electrochemistry#electrochemistry_403c300e_09b9_400b_943b_04e82a3cfb56  :  PorousElectrodeCoating\n",
      "http://emmo.info/electrochemistry#electrochemistry_40e3bde2_77d6_4251_9781_8f6e6fa7a160  :  ACTechniques\n",
      "http://emmo.info/electrochemistry#electrochemistry_43a06daa_3644_429c_953c_4ee49aaf570a  :  AcidicElectrochemicalCell\n",
      "http://emmo.info/electrochemistry#electrochemistry_43ce1a7e_8056_40cb_bdbd_4ce991af1821  :  Dielectrometry\n",
      "http://emmo.info/electrochemistry#electrochemistry_444992e5_43f8_44a1_9767_b408dbe54330  :  SelfDischarge\n",
      "http://emmo.info/electrochemistry#electrochemistry_468df5e8_f7b0_4761_96e9_1a83cc11027d  :  PotentiostaticChronoamperometry\n",
      "http://emmo.info/electrochemistry#electrochemistry_4a21f141_64ff_4524_8c2c_93073ee9e364  :  LithiumPlatingReaction\n",
      "http://emmo.info/electrochemistry#electrochemistry_4bc38e99_1978_4143_a766_fbb57f2cf46e  :  ElectrochemicalImmunity\n",
      "http://emmo.info/electrochemistry#electrochemistry_4d6f7f50_b343_4bd6_8612_2b8521a99c9b  :  Electrocatalysis\n",
      "http://emmo.info/electrochemistry#electrochemistry_4df84ec1_8a1a_4770_963f_bf48009bd043  :  Electrodissolution\n",
      "http://emmo.info/electrochemistry#electrochemistry_4e02d727_07fe_41fd_886c_041317342086  :  BinaryElectrolyte\n",
      "http://emmo.info/electrochemistry#electrochemistry_50044b99_b858_433b_a32d_23d1e1cf88b2  :  ElectrochemicalInterface\n",
      "http://emmo.info/electrochemistry#electrochemistry_52501237_0c13_4bfb_aa3a_441c6a9ae3a6  :  CoulometricTitration\n",
      "http://emmo.info/electrochemistry#electrochemistry_53fe3f58_0802_41cf_af69_4784fc42cc30  :  ConstantCurrentDischarging\n",
      "http://emmo.info/electrochemistry#electrochemistry_5641910f_6e69_4ce4_be84_4b1bf14b8916  :  Electroosmosis\n",
      "http://emmo.info/electrochemistry#electrochemistry_579eed46_6918_4275_9a70_dfd0409ab418  :  FaradaysLawsOfElectrolysis\n",
      "http://emmo.info/electrochemistry#electrochemistry_58143f50_c3c1_4cba_b8eb_577282b4b026  :  ElectricPotentialMeasurementResult\n",
      "http://emmo.info/electrochemistry#electrochemistry_58413d4e_2885_459e_ac06_8d45e661cf91  :  PorousSeparator\n",
      "http://emmo.info/electrochemistry#electrochemistry_598ae3d0_76e9_429c_a0e1_8694525cb574  :  KohlrauschsLaw\n",
      "http://emmo.info/electrochemistry#electrochemistry_5a0f3b6a_10b4_43a7_b0b6_4eb5c077980e  :  DCPolarography\n",
      "http://emmo.info/electrochemistry#electrochemistry_5adb91e0_ffe1_41f3_b779_c6966f65fb0e  :  MetalElectrode\n",
      "http://emmo.info/electrochemistry#electrochemistry_5c67952c_c5f3_4251_bb02_c99a7f5aedd9  :  HydrogenElectrochemicalReaction\n",
      "http://emmo.info/electrochemistry#electrochemistry_5cb5548f_f774_4668_ad02_f0742581f2f1  :  Electrocapillarity\n",
      "http://emmo.info/electrochemistry#electrochemistry_5dc0c44e_6fdc_49fc_8654_b8b2d75d0d2d  :  ElectricPotentialMeasurement\n",
      "http://emmo.info/electrochemistry#electrochemistry_5dd49895_0489_4324_89fe_862a71f3eb1e  :  AmperometricTechniques\n",
      "http://emmo.info/electrochemistry#electrochemistry_5f9a9411_05f9_4576_acd3_81d7d41cfe98  :  NonAqueousElectrolyte\n",
      "http://emmo.info/electrochemistry#electrochemistry_609b340f_3450_4a10_95c2_c457e3eb8a89  :  LiquidElectrolyte\n",
      "http://emmo.info/electrochemistry#electrochemistry_60c5b2e5_164a_4ce6_8409_f386f5e50c03  :  FaradaysSecondLawOfElectrolysis\n",
      "http://emmo.info/electrochemistry#electrochemistry_615cff2a_be95_4e65_9471_98db23f4c878  :  AlkalineElectrolyte\n",
      "http://emmo.info/electrochemistry#electrochemistry_61740c42_d332_492c_8b37_90a187c7f6d9  :  CathodicStrippingVoltammetry\n",
      "http://emmo.info/electrochemistry#electrochemistry_6202d0be_2dcf_4ec3_8952_bca183ce4e87  :  ElectrochemicalQuartzCrystalMicrobalance\n",
      "http://emmo.info/electrochemistry#electrochemistry_634467ad_feed_4979_adb2_877d98fe1768  :  LiquidJunction\n",
      "http://emmo.info/electrochemistry#electrochemistry_637c576e_a50e_47ae_8c74_2024ce4c6d0f  :  SaltBridge\n",
      "http://emmo.info/electrochemistry#electrochemistry_63dec5af_f3e9_46c9_8b0c_82516231d96b  :  Chronopotentiometry\n",
      "http://emmo.info/electrochemistry#electrochemistry_63ea1c9b_0bda_4a69_9745_efb08e6be685  :  ElectrochemicalMigration\n",
      "http://emmo.info/electrochemistry#electrochemistry_63fe114f_5803_4f2a_8d07_93d3be380e41  :  Coulometry\n",
      "http://emmo.info/electrochemistry#electrochemistry_6e439f86_3d00_4b0b_82ab_1fa25241d4e9  :  Coulometry\n",
      "http://emmo.info/electrochemistry#electrochemistry_64bf0969_37a1_4aaf_82e9_68462847ac65  :  MeasurementPrinciple\n",
      "http://emmo.info/electrochemistry#electrochemistry_6592d8cc_4ce4_42ca_b010_6bfc4a8444d2  :  AcidicElectrolyte\n",
      "http://emmo.info/electrochemistry#electrochemistry_65c90d8d_9712_4f3f_b830_d8163ec4cfcc  :  SolidAmalgamElectrode\n",
      "http://emmo.info/electrochemistry#electrochemistry_66c74bec_dbfb_43c2_a23a_5b6000f1b841  :  LithiumCobaltOxideReaction\n",
      "http://emmo.info/electrochemistry#electrochemistry_670360fd_7cf9_4fe7_a9b5_c966f668ec88  :  ConversionElectrode\n",
      "http://emmo.info/electrochemistry#electrochemistry_6731f325_dfb4_4dfb_b458_c30508f7e0b7  :  ZincStrippingReaction\n",
      "http://emmo.info/electrochemistry#electrochemistry_68eb5e35_5bd8_47b1_9b7f_f67224fa291e  :  Binder\n",
      "http://emmo.info/electrochemistry#electrochemistry_6c421175_477f_45e0_8b6c_c3464f5351c5  :  RotatingDiskElectrode\n",
      "http://emmo.info/electrochemistry#electrochemistry_6ec59f99_5f26_4a7d_9b90_b52e0f8ad190  :  SilverChlorideElectrode\n",
      "http://emmo.info/electrochemistry#electrochemistry_6f0dc7c0_ba12_4390_9564_f10f85a1779a  :  SampledDCPolarography\n",
      "http://emmo.info/electrochemistry#electrochemistry_6f2c88c9_5c04_4953_a298_032cc3ab9b77  :  ElectrochemicalCell\n",
      "http://emmo.info/electrochemistry#electrochemistry_6fec8cc1_4e6c_428e_8343_6cf3c286a185  :  GoldElectrode\n",
      "http://emmo.info/electrochemistry#electrochemistry_729a1064_d039_4b74_9d1d_759b18a3971c  :  Chronoamperometry\n",
      "http://emmo.info/electrochemistry#electrochemistry_757eae08_4d43_42d4_8b4e_8a0bfd2f9a1c  :  InsertionElectrode\n",
      "http://emmo.info/electrochemistry#electrochemistry_75f89f06_1c23_4e40_8654_403c21e5a66f  :  LithiumStrippingReaction\n",
      "http://emmo.info/electrochemistry#electrochemistry_761d64bb_b13a_438c_b2cf_972938904e5d  :  OxygenElectrochemicalReaction\n",
      "http://emmo.info/electrochemistry#electrochemistry_771e82be_c61d_4aad_bdcf_62ca3e68a939  :  AmperometricCurrentTimeCurve\n",
      "http://emmo.info/electrochemistry#electrochemistry_7729c34e_1ae9_403d_b933_1765885e7f29  :  ReferenceElectrode\n",
      "http://emmo.info/electrochemistry#electrochemistry_7760b241_775f_4be1_b827_59f9bde9e5b2  :  PhotoelectrolyticCell\n",
      "http://emmo.info/electrochemistry#electrochemistry_78a8f60b_10c2_41ee_9946_d35437e1edb5  :  GalvanostaticTechniques\n",
      "http://emmo.info/electrochemistry#electrochemistry_79d1b273-58cd-4be6-a250-434817f7c261  :  ActiveMaterial\n",
      "http://emmo.info/electrochemistry#electrochemistry_7d20588b_69da_46f7_b05d_5b637f6426cb  :  AmperometricDetection\n",
      "http://emmo.info/electrochemistry#electrochemistry_7f4d74cd_d0a5_4908_9da9_7629fe419917  :  RotatingRingDiskElectrode\n",
      "http://emmo.info/electrochemistry#electrochemistry_80384f43_8818_42c6_9b1d_7747389a3554  :  LithiumGraphiteReaction\n",
      "http://emmo.info/electrochemistry#electrochemistry_825a749f_dd07_46fb_947c_db286440911e  :  CellVoltageMeasurement\n",
      "http://emmo.info/electrochemistry#electrochemistry_82b66bfe_ec25_417b_ba65_b631ddaaca0e  :  SaturatedCalomelElectrode\n",
      "http://emmo.info/electrochemistry#electrochemistry_82fef384_8eec_4765_b707_5397054df594  :  ConductiveAdditive\n",
      "http://emmo.info/electrochemistry#electrochemistry_83d2c2d4_ffa9_42f4_9264_a0c59c657607  :  PolarityReversal\n",
      "http://emmo.info/electrochemistry#electrochemistry_83ee23b3_2f5c_4afa_b972_ac85e91d7306  :  NormalHydrogenElectrode\n",
      "http://emmo.info/electrochemistry#electrochemistry_83f2b1e9_cb67_4dbf_977f_ba54bbae374f  :  ConstantCurrentCharging\n",
      "http://emmo.info/electrochemistry#electrochemistry_852542de_832e_473e_b70c_1d5ec235fc33  :  ChronoMethods\n",
      "http://emmo.info/electrochemistry#electrochemistry_865a40fc_2187_4549_a7e1_37aa2458448f  :  Anolyte\n",
      "http://emmo.info/electrochemistry#electrochemistry_86be0987_5e21_43ec_b975_8f679999d328  :  BimetallicElectrode\n",
      "http://emmo.info/electrochemistry#electrochemistry_871bc4a4_2d17_4b88_9b0f_7ab85f14afea  :  CounterElectrode\n",
      "http://emmo.info/electrochemistry#electrochemistry_89ff4fa5_142f_49ec_bfe8_117a38648ed8  :  MeasuringCell\n",
      "http://emmo.info/electrochemistry#electrochemistry_8a5083b0_cd23_4f8c_99e8_b9ccd6f9f3a2  :  ConcentrationCell\n",
      "http://emmo.info/electrochemistry#electrochemistry_8ab1e656_38ff_48e6_ab09_293d76bc9044  :  Catalyst\n",
      "http://emmo.info/electrochemistry#electrochemistry_8b40856f_1ca2_4137_9616_7fb624671909  :  AirElectrode\n",
      "http://emmo.info/electrochemistry#electrochemistry_8ba8ec72_abd0_49eb_a06f_83fe5da108f4  :  AnodicStrippingVoltammetry\n",
      "http://emmo.info/electrochemistry#electrochemistry_8c18d60b_c5df_45ce_b64a_91c9b53d322d  :  NonAqueousElectrochemicalCell\n",
      "http://emmo.info/electrochemistry#electrochemistry_8c71739c_27c1_4d19_a0ff_02545296af43  :  SeriesConnection\n",
      "http://emmo.info/electrochemistry#electrochemistry_8ca00b45_5ba6_48a0_aaf6_abd959a7238b  :  ACVoltammetry\n",
      "http://emmo.info/electrochemistry#electrochemistry_916b1863_f417_4b94_9407_9d749ada9ed5  :  PotentiometricStrippingAnalysis\n",
      "http://emmo.info/electrochemistry#electrochemistry_b5039bc8_f595_4797_908a_7e86131fbde4  :  PotentiometricStrippingAnalysis\n",
      "http://emmo.info/electrochemistry#electrochemistry_91ccf64e_9865_4543_824c_9546ccabf551  :  LithiumElectrochemicalReaction\n",
      "http://emmo.info/electrochemistry#electrochemistry_92147e31_d015_4889_a092_04fbab033f15  :  CoatedElectrode\n",
      "http://emmo.info/electrochemistry#electrochemistry_95e4aa95_b7e9_40d7_b78e_4d7dcc31093d  :  ElectrochemicalFlowCell\n",
      "http://emmo.info/electrochemistry#electrochemistry_9679fc51_d9c2_484a_9dba_d86ab407fcbe  :  ConversionCell\n",
      "http://emmo.info/electrochemistry#electrochemistry_9865e4f9_756d_4d94_a6fd_4102ab795f9e  :  ConstantVoltageDischarging\n",
      "http://emmo.info/electrochemistry#electrochemistry_99f21272_3aba_4dab_a9b7_63e5e1116beb  :  ElectrochemicalConversionMaterial\n",
      "http://emmo.info/electrochemistry#electrochemistry_9a823d64_9d10_4a29_9cbd_9bbdad7985bc  :  NonInertElectrode\n",
      "http://emmo.info/electrochemistry#electrochemistry_9b6853e7_3412_463d_b5a9_82c14acebf7d  :  CatholyteTank\n",
      "http://emmo.info/electrochemistry#electrochemistry_9c73aff8_1c82_4116_a6be_78e21982b69d  :  ElectrodeElectrolyteInterface\n",
      "http://emmo.info/electrochemistry#electrochemistry_9d7e5fea_a49a_4a19_a8de_8e24c60e420c  :  NernstEinsteinEquation\n",
      "http://emmo.info/electrochemistry#electrochemistry_9da958fc_f76d_4654_8a78_99b5f98c118c  :  ElectrochemicalHalfCell\n",
      "http://emmo.info/electrochemistry#electrochemistry_9f466223_e20a_474d_ac4d_6d4b6131c275  :  NonPolarizableElectrode\n",
      "http://emmo.info/electrochemistry#electrochemistry_a0580fa9_5073_44af_b33e_7adbc83892d0  :  AnodicReaction\n",
      "http://emmo.info/electrochemistry#electrochemistry_a05e7945_c942_45cf_812c_c9a595d15888  :  AdsorptiveStrippingVoltammetry\n",
      "http://emmo.info/electrochemistry#electrochemistry_a0a619d7_da95_41f0_8bc3_9c19d636d543  :  InertElectrode\n",
      "http://emmo.info/electrochemistry#electrochemistry_a2b92d2e_4431_411e_8da5_a4c08bac2c0e  :  Electroplating\n",
      "http://emmo.info/electrochemistry#electrochemistry_a3b53904_22b1_42a9_a515_c8a3aed7e841  :  Electrocatalyst\n",
      "http://emmo.info/electrochemistry#electrochemistry_a462859d_d8bd_48ea_8bde_1576f1248a1e  :  SilverElectrode\n",
      "http://emmo.info/electrochemistry#electrochemistry_a6a69e90_06b5_45b1_83cf_7c0bf39b2914  :  ElectrochemicalReaction\n",
      "http://emmo.info/electrochemistry#electrochemistry_a8e42b90_7838_460c_8f27_7b5d4238b7a4  :  ElectricCurrentMeasurementResult\n",
      "http://emmo.info/electrochemistry#electrochemistry_a9873d3d_945b_40ba_b9cd_8dfb64cec88f  :  Charging\n",
      "http://emmo.info/electrochemistry#electrochemistry_a9f19bb0_55bc_4908_b0e4_7888077b0019  :  LinearScanVoltammetry\n",
      "http://emmo.info/electrochemistry#electrochemistry_a9fc3f77_e48e_4bce_b118_044d608722f6  :  Potentiostat\n",
      "http://emmo.info/electrochemistry#electrochemistry_ac9723d1_bac0_4109_874e_32849de9299b  :  DoubleLayer\n",
      "http://emmo.info/electrochemistry#electrochemistry_aff732a9_238a_4734_977c_b2ba202af126  :  PositiveElectrode\n",
      "http://emmo.info/electrochemistry#electrochemistry_b0a0dddb_d942_4af2_b6a7_d7165f4253f1  :  CarbonPasteElectrode\n",
      "http://emmo.info/electrochemistry#electrochemistry_b2d11f0d_c1b0_4476_8d17_03b73d31e01f  :  AsymmetricMembrane\n",
      "http://emmo.info/electrochemistry#electrochemistry_b3a6d552_b38e_47ad_9d48_e8b77035d63e  :  Conductometry\n",
      "http://emmo.info/electrochemistry#electrochemistry_b3e56313_417c_42b7_a934_0018ce2dffc2  :  DifferentialPulseVoltammetry\n",
      "http://emmo.info/electrochemistry#electrochemistry_b525a629_a679_464f_bc5b_b49d2fc82686  :  ConductivityCell\n",
      "http://emmo.info/electrochemistry#electrochemistry_b5ea31c9_bb10_4276_980e_c3eceb1efc82  :  ElectrochemicalConstituent\n",
      "http://emmo.info/electrochemistry#electrochemistry_b6319c74_d2ce_48c0_a75a_63156776b302  :  Anode\n",
      "http://emmo.info/electrochemistry#electrochemistry_b76a778f_253f_4210_a67f_fb6444d0de26  :  DroppingMercuryElectrode\n",
      "http://emmo.info/electrochemistry#electrochemistry_b812e9d0_7c58_4455_b3e7_6847f10c8e8a  :  AqueousElectrolyte\n",
      "http://emmo.info/electrochemistry#electrochemistry_b91180e7_97ae_49e2_bf82_5bf720e7fa66  :  ElectrochemicalCapacitor\n",
      "http://emmo.info/electrochemistry#electrochemistry_b9bece97_a511_4cb9_88a2_b5bd5c5e5d74  :  ThreeElectrodeCell\n",
      "http://emmo.info/electrochemistry#electrochemistry_baa09ba6_d214_4a8a_808a_5bcbd46e52c3  :  SolidElectrolyteElectrochemicalCell\n",
      "http://emmo.info/electrochemistry#electrochemistry_bbb1d95b_72d1_44f6_b07e_a3d7d41ac215  :  GasDiffusionElectrode\n",
      "http://emmo.info/electrochemistry#electrochemistry_bd33779c_6f40_4354_ab5d_f6c17396414d  :  FuelCell\n",
      "http://emmo.info/electrochemistry#electrochemistry_bea04148_10d9_4eda_9cd5_8f609d7e9ff8  :  TemperatureMeasurement\n",
      "http://emmo.info/electrochemistry#electrochemistry_bed5b5f9_b89d_45e3_a8c2_81b70ae21847  :  SeriesParallelConnection\n",
      "http://emmo.info/electrochemistry#electrochemistry_bfbefff0_4df5_47c2_9943_5f42cf268e9e  :  StrippingChronopotentiometry\n",
      "http://emmo.info/electrochemistry#electrochemistry_c2024587_3237_474e_8df9_91d10db2df47  :  PolarizableElectrode\n",
      "http://emmo.info/electrochemistry#electrochemistry_c3f4b34a_0e2c_46f3_baab_4ebd2682d26f  :  IonicLiquidElectrolyte\n",
      "http://emmo.info/electrochemistry#electrochemistry_c4a778c7_33da_4e1a_960e_402a210bfeff  :  HydrogenElectrode\n",
      "http://emmo.info/electrochemistry#electrochemistry_c94c041b_8ea6_43e7_85cc_d2bce7785b4c  :  NegativeElectrode\n",
      "http://emmo.info/electrochemistry#electrochemistry_cb3c0663_5962_4b79_8e72_1e8242af3977  :  OpenCircuitVoltageHold\n",
      "http://emmo.info/electrochemistry#electrochemistry_cf596ea1_c313_4fe1_bd7f_c18afc8a24e3  :  CellCurrentMeasurement\n",
      "http://emmo.info/electrochemistry#electrochemistry_d1042a12_e4be_4992_86cb_59420ef4e05c  :  ElectrochemicalChargeCarrierIon\n",
      "http://emmo.info/electrochemistry#electrochemistry_d30d9de0_b9bf_4919_a022_0394df9c3672  :  ElectrochemicalImpedanceSpectroscopy\n",
      "http://emmo.info/electrochemistry#electrochemistry_d3e2d213_d078_4b9a_8beb_62f063e57d69  :  Cycling\n",
      "http://emmo.info/electrochemistry#electrochemistry_d48ea516_5cac_4f86_bc88_21b6276c0938  :  ButlerVolmerEquation\n",
      "http://emmo.info/electrochemistry#electrochemistry_d5da9948_e95b_4f12_a2d2_10a48f390c52  :  ParallelSeriesConnection\n",
      "http://emmo.info/electrochemistry#electrochemistry_d8413c07_1c47_4450_ac05_e3350b4c7600  :  ZincPlatingReaction\n",
      "http://emmo.info/electrochemistry#electrochemistry_d95fdd2e_38bf_4065_a857_78eb201ee166  :  HydrodynamicVoltammetry\n",
      "http://emmo.info/electrochemistry#electrochemistry_db4f8776_0d92_4641_9202_2591d1624328  :  ConstantPotentialChronoamperometry\n",
      "http://emmo.info/electrochemistry#electrochemistry_dc205ac2_314e_415c_a2b6_b12e8359d54c  :  NearNeutralElectrolyte\n",
      "http://emmo.info/electrochemistry#electrochemistry_dded0f27_75da_4a62_ba5e_22050089b726  :  PotentiostaticDCMeasurement\n",
      "http://emmo.info/electrochemistry#electrochemistry_df78745e_f9db_4830_88f0_8ce074fcb8ff  :  MercuryElectrode\n",
      "http://emmo.info/electrochemistry#electrochemistry_e248373f_294f_4ca4_9edf_0ad6653bb64f  :  GalvanicCell\n",
      "http://emmo.info/electrochemistry#electrochemistry_e2a1dae1_05e4_4bd1_a39d_0eb10db482bc  :  Electrolysis\n",
      "http://emmo.info/electrochemistry#electrochemistry_e3d3d21c_cb9a_498c_bdb0_63c964f0d3c6  :  CapacityFade\n",
      "http://emmo.info/electrochemistry#electrochemistry_e8cedede_5685_4625_9abe_64f62b5ddcb6  :  Potentiometry\n",
      "http://emmo.info/electrochemistry#electrochemistry_e931087f_7681_4096_b200_5223bcc47eb4  :  ElectrolyticCell\n",
      "http://emmo.info/electrochemistry#electrochemistry_e9639083_e9c5_4d0a_97e8_be1e139c179f  :  ConductometricTitration\n",
      "http://emmo.info/electrochemistry#electrochemistry_ebdb68e9_c4b5_4d57_a042_c0f51d446755  :  ElectrochemicalMaterial\n",
      "http://emmo.info/electrochemistry#electrochemistry_ec6f3d6f_bdf5_418f_9314_3ef2ff528103  :  CarbonInkElectrode\n",
      "http://emmo.info/electrochemistry#electrochemistry_ecf136cb_2584_4cb1_98b7_2d2b3d22e40d  :  SolidElectrolyteInterphase\n",
      "http://emmo.info/electrochemistry#electrochemistry_efc4f7ab_850d_443c_a17f_184983021f96  :  ParallelConnection\n",
      "http://emmo.info/electrochemistry#electrochemistry_f0c24970_4c14_4207_bd78_5f2181a67085  :  Electrodeposition\n",
      "http://emmo.info/electrochemistry#electrochemistry_f1c7eacb_9f21_4100_925c_3974f266e06f  :  BilayerMembrane\n",
      "http://emmo.info/electrochemistry#electrochemistry_f49b84d4_e1f9_424c_bb22_8cea23c0a7d4  :  ElectrochemicalMethod\n",
      "http://emmo.info/electrochemistry#electrochemistry_f4a1323a_ce2b_4c1a_b89d_c80170110ed6  :  CathodicReaction\n",
      "http://emmo.info/electrochemistry#electrochemistry_f54474fc_5d07_474b_97ae_f5d0349363b4  :  HybridFlowCell\n",
      "http://emmo.info/electrochemistry#electrochemistry_f6341d7d_7620_48f5_97b2_99b55c349169  :  ActiveMaterialParticleCracking\n",
      "http://emmo.info/electrochemistry#electrochemistry_f693b744_930c_42ac_8e6f_627b22c6da3f  :  ElectricCurrentMeasuringSystem\n",
      "http://emmo.info/electrochemistry#electrochemistry_f6fcd255_248d_4603_b128_04dab960a676  :  IndicatorElectrode\n",
      "http://emmo.info/electrochemistry#electrochemistry_f91c9ae3_42b8_4efa_9b67_a406d162d3b5  :  Chronocoulometry\n",
      "http://emmo.info/electrochemistry#electrochemistry_fa22874b_76a9_4043_8b8f_6086c88746de  :  ElectrolyteSolution\n",
      "http://emmo.info/electrochemistry#electrochemistry_fb0d9eef_92af_4628_8814_e065ca255d59  :  Electrolyte\n",
      "http://emmo.info/electrochemistry#electrochemistry_fb988878_ee54_4350_9ee9_228c00c3ad35  :  WorkingElectrode\n",
      "http://emmo.info/electrochemistry#electrochemistry_fb9bf7cb_dd4b_4391_99a1_628263dd6940  :  Coulometer\n",
      "http://emmo.info/electrochemistry#electrochemistry_fe333444_1f07_4d67_afcf_05dbd292b9b3  :  PotentiostaticPolarization\n",
      "http://emmo.info/electrochemistry#electrochemistry_fe3a6c9a_85b8_4da6_aa4f_71c8de74939e  :  NernstEquation\n"
     ]
    }
   ],
   "source": [
    "names = g.subject_objects(predicate=SKOS.prefLabel)\n",
    "for subject, object in names:\n",
    "    print(subject, \" : \", object)"
   ]
  },
  {
   "attachments": {},
   "cell_type": "markdown",
   "metadata": {},
   "source": [
    "## Haystack"
   ]
  },
  {
   "cell_type": "code",
   "execution_count": 9,
   "metadata": {},
   "outputs": [],
   "source": [
    "from haystack.utils import fetch_archive_from_http\n",
    "from pathlib import Path\n",
    "from haystack.document_stores import InMemoryKnowledgeGraph\n",
    "from haystack.nodes import Text2SparqlRetriever\n",
    "\n"
   ]
  },
  {
   "cell_type": "code",
   "execution_count": 6,
   "metadata": {},
   "outputs": [
    {
     "data": {
      "text/plain": [
       "True"
      ]
     },
     "execution_count": 6,
     "metadata": {},
     "output_type": "execute_result"
    }
   ],
   "source": [
    "model_dir = \"./model/\"\n",
    "if not os.listdir(model_dir):\n",
    "    s3_url = \"https://fandom-qa.s3-eu-west-1.amazonaws.com/saved_models/hp_v3.4.zip\"\n",
    "    fetch_archive_from_http(url=s3_url, output_dir=model_dir)"
   ]
  },
  {
   "cell_type": "code",
   "execution_count": 7,
   "metadata": {},
   "outputs": [
    {
     "data": {
      "text/plain": [
       "False"
      ]
     },
     "execution_count": 7,
     "metadata": {},
     "output_type": "execute_result"
    }
   ],
   "source": [
    "not os.listdir(model_dir)"
   ]
  },
  {
   "cell_type": "code",
   "execution_count": 13,
   "metadata": {},
   "outputs": [
    {
     "name": "stdout",
     "output_type": "stream",
     "text": [
      "The last triple stored in the knowledge graph is: {'s': {'type': 'uri', 'value': 'http://emmo.info/electrochemistry#electrochemistry_5641910f_6e69_4ce4_be84_4b1bf14b8916'}, 'p': {'type': 'uri', 'value': 'http://emmo.info/emmo#EMMO_50c298c2_55a2_4068_b3ac_4e948c33181f'}, 'o': {'type': 'uri', 'value': 'https://www.electropedia.org/iev/iev.nsf/display?openform&ievref=114-04-01'}}\n",
      "There are 2254 triples stored in the knowledge graph.\n"
     ]
    }
   ],
   "source": [
    "# Initialize a in memory knowledge graph and use \"tutorial_10_index\" as the name of the index\n",
    "kg = InMemoryKnowledgeGraph(index=\"tutorial_10_index\")\n",
    "\n",
    "# Delete the index as it might have been already created in previous runs\n",
    "kg.delete_index()\n",
    "\n",
    "# Create the index\n",
    "kg.create_index()\n",
    "\n",
    "# Import triples of subject, predicate, and object statements from a ttl file\n",
    "kg.import_from_ttl_file(index=\"tutorial_10_index\", path=os.path.join(data_path, example_filename))\n",
    "print(f\"The last triple stored in the knowledge graph is: {kg.get_all_triples()[-1]}\")\n",
    "print(f\"There are {len(kg.get_all_triples())} triples stored in the knowledge graph.\")"
   ]
  },
  {
   "cell_type": "code",
   "execution_count": 14,
   "metadata": {},
   "outputs": [],
   "source": [
    "# Load a pre-trained model that translates text queries to SPARQL queries\n",
    "kgqa_retriever = Text2SparqlRetriever(knowledge_graph=kg, model_name_or_path=Path(model_dir) / \"hp_v3.4\")"
   ]
  },
  {
   "cell_type": "code",
   "execution_count": 17,
   "metadata": {},
   "outputs": [
    {
     "name": "stdout",
     "output_type": "stream",
     "text": [
      "Translating the text query \"What is Electrode?\" to a SPARQL query and executing it on the knowledge graph...\n",
      "[{'answer': '', 'prediction_meta': {'model': 'Text2SparqlRetriever', 'sparql_query': ''}}]\n"
     ]
    }
   ],
   "source": [
    "query = \"What is Electrode?\"\n",
    "print(f'Translating the text query \"{query}\" to a SPARQL query and executing it on the knowledge graph...')\n",
    "result = kgqa_retriever.retrieve(query=query)\n",
    "print(result)\n"
   ]
  },
  {
   "attachments": {},
   "cell_type": "markdown",
   "metadata": {},
   "source": [
    "### Conclusion\n",
    "Haystack does not work out of the box for our ontologies. We need to explore a more human-readable representation of the IRIs (using prefixes and aliases?)."
   ]
  }
 ],
 "metadata": {
  "kernelspec": {
   "display_name": "venv-qapdf",
   "language": "python",
   "name": "python3"
  },
  "language_info": {
   "codemirror_mode": {
    "name": "ipython",
    "version": 3
   },
   "file_extension": ".py",
   "mimetype": "text/x-python",
   "name": "python",
   "nbconvert_exporter": "python",
   "pygments_lexer": "ipython3",
   "version": "3.9.5"
  },
  "orig_nbformat": 4,
  "vscode": {
   "interpreter": {
    "hash": "fb656e3ace6772209ddd15e0500810bf36ceb59dea7b32e38b8b1d50b6b394ad"
   }
  }
 },
 "nbformat": 4,
 "nbformat_minor": 2
}
